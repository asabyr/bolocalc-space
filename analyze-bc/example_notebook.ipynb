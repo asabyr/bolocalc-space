{
 "cells": [
  {
   "cell_type": "markdown",
   "id": "df3ae5c3-f34a-4e17-bc68-1c3c435c017b",
   "metadata": {},
   "source": [
    "### Step 1: Import the \"gen_bolos\" module\n",
    "    This is a set of scripts that allow the sensitivity calculator (BoloCalc) to be configured and executed entirely within a jupyter notebook"
   ]
  },
  {
   "cell_type": "code",
   "execution_count": null,
   "id": "2d6b760d-13d1-4d74-8b47-226c10ab515c",
   "metadata": {},
   "outputs": [],
   "source": [
    "from gen_bolos import GenBolos"
   ]
  },
  {
   "cell_type": "markdown",
   "id": "2615b9ef-4055-4c52-8bdc-ac7b4aff528a",
   "metadata": {},
   "source": [
    "### Step 2: Set up configuration files\n",
    "    The GenBolos class requires 1) your file path to \"calcBolos.py\", 2) your file path to the experiment directory (in this case \"specter_v1\"), 3) a tuple of band edges, and 4) prefix for all output files (default: time-date string)"
   ]
  },
  {
   "cell_type": "code",
   "execution_count": null,
   "id": "fc5bcc00-52cf-41ec-8343-1ce19320aed3",
   "metadata": {},
   "outputs": [],
   "source": [
    "bc_fp = '/home/cesierra/software/bolocalc-space/calcBolos.py'\n",
    "\n",
    "exp_fp = '/home/cesierra/software/bolocalc-space/Experiments/specter_v1/'\n",
    "\n",
    "band_edges =( \n",
    "[10, 40] ,\n",
    "[40, 80] ,\n",
    "[80, 120] ,\n",
    "[120, 200] ,\n",
    "[200, 300] ,\n",
    "[300, 500] ,\n",
    "[500, 700] ,\n",
    "[700, 1000] )\n",
    "\n",
    "output_file_prefix=\"example_notebook_\""
   ]
  },
  {
   "cell_type": "markdown",
   "id": "70718eca-112e-4314-a7f7-ed6bec9d5a5f",
   "metadata": {},
   "source": [
    "### Step 3: Initialize GenBolos and run calc_bolos()"
   ]
  },
  {
   "cell_type": "code",
   "execution_count": null,
   "id": "6ab7dffe-cafe-4c67-8268-b82946997dcf",
   "metadata": {},
   "outputs": [],
   "source": [
    "bolos = GenBolos(bc_fp, exp_fp, band_edges, file_prefix=output_file_prefix)"
   ]
  },
  {
   "cell_type": "code",
   "execution_count": null,
   "id": "4a4988fa-9319-4af4-a45f-b89f0f53dcd6",
   "metadata": {},
   "outputs": [],
   "source": [
    "sensitivity_dict = bolos.calc_bolos()"
   ]
  },
  {
   "cell_type": "markdown",
   "id": "faf30a00-890a-4d74-ba47-7dbac18afb44",
   "metadata": {},
   "source": [
    "#### calc_bolos() returns a dictionary of NETs [uK_RJ-rtSec and uK_CMB-rtSec] and optical powers [pW] for each given band"
   ]
  },
  {
   "cell_type": "code",
   "execution_count": null,
   "id": "a04b63fb-0686-4cba-9e6c-e0f366550b97",
   "metadata": {},
   "outputs": [],
   "source": [
    "import pandas as pd"
   ]
  },
  {
   "cell_type": "code",
   "execution_count": null,
   "id": "f0112658-45f2-4458-be1c-52ce38724868",
   "metadata": {},
   "outputs": [],
   "source": [
    "df = pd.DataFrame(sensitivity_dict).T\n",
    "df"
   ]
  },
  {
   "cell_type": "code",
   "execution_count": null,
   "id": "f4b1bed2-c2b9-4dcd-9a5b-2656e43130c6",
   "metadata": {},
   "outputs": [],
   "source": [
    "# write to text file\n",
    "df.to_csv('sensitivity.txt', sep='\\t' ,encoding='utf-8')"
   ]
  },
  {
   "cell_type": "markdown",
   "id": "d3435ff0-9205-4bfa-ae22-4f78023469a9",
   "metadata": {},
   "source": [
    "#### In addition to running calc_bolos(), the \"bolos\" object has other useful info such as band centers, pixel sizes, etc..."
   ]
  },
  {
   "cell_type": "code",
   "execution_count": null,
   "id": "8afa307b-a0b4-4622-b465-9cd807e782b4",
   "metadata": {},
   "outputs": [],
   "source": [
    "for j,nu_0 in enumerate(bolos.band_centers):\n",
    "    print(f'Detector: {nu_0:0.1f} GHz \\t Pixel diameter: {bolos.pixel_sizes[j]:0.1f} mm')"
   ]
  },
  {
   "cell_type": "code",
   "execution_count": null,
   "id": "9a6a5bf8-3720-4060-9c3d-23b9ee994dcd",
   "metadata": {},
   "outputs": [],
   "source": [
    "import matplotlib.pyplot as plt\n",
    "import seaborn as sns\n",
    "sns.set(style='ticks', font='serif', font_scale=1.5)\n",
    "figsize = (10,8)"
   ]
  },
  {
   "cell_type": "code",
   "execution_count": null,
   "id": "7bac2428-c44c-4b88-aa85-910bbc9b815c",
   "metadata": {},
   "outputs": [],
   "source": [
    "plt.figure(figsize=figsize)\n",
    "for band in bolos.passbands:\n",
    "    plt.semilogx(bolos.freqs, band, linewidth=3)\n",
    "    \n",
    "plt.xlabel('GHz')"
   ]
  },
  {
   "cell_type": "code",
   "execution_count": null,
   "id": "f92a4ff2-d64d-4511-ae92-673cb0fa33d8",
   "metadata": {},
   "outputs": [],
   "source": []
  }
 ],
 "metadata": {
  "kernelspec": {
   "display_name": "specter",
   "language": "python",
   "name": "specter"
  },
  "language_info": {
   "codemirror_mode": {
    "name": "ipython",
    "version": 3
   },
   "file_extension": ".py",
   "mimetype": "text/x-python",
   "name": "python",
   "nbconvert_exporter": "python",
   "pygments_lexer": "ipython3",
   "version": "3.8.13"
  }
 },
 "nbformat": 4,
 "nbformat_minor": 5
}
