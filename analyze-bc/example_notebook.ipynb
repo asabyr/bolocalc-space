{
 "cells": [
  {
   "cell_type": "markdown",
   "id": "df3ae5c3-f34a-4e17-bc68-1c3c435c017b",
   "metadata": {},
   "source": [
    "### Step 1: Import the \"gen_bolos\" module\n",
    "    This is a set of scripts that allow the sensitivity calculator (BoloCalc) to be configured and executed entirely within a jupyter notebook"
   ]
  },
  {
   "cell_type": "code",
   "execution_count": 1,
   "id": "2d6b760d-13d1-4d74-8b47-226c10ab515c",
   "metadata": {},
   "outputs": [],
   "source": [
    "from gen_bolos import GenBolos"
   ]
  },
  {
   "cell_type": "markdown",
   "id": "2615b9ef-4055-4c52-8bdc-ac7b4aff528a",
   "metadata": {},
   "source": [
    "### Step 2: Set up configuration files\n",
    "    The GenBolos class requires 1) your file path to \"calcBolos.py\", 2) your file path to the experiment directory (in this case \"specter_v1\"), and 3) a tuple of band edges"
   ]
  },
  {
   "cell_type": "code",
   "execution_count": 2,
   "id": "fc5bcc00-52cf-41ec-8343-1ce19320aed3",
   "metadata": {},
   "outputs": [],
   "source": [
    "bc_fp = '/home/cesierra/software/bolocalc-space/calcBolos.py'\n",
    "\n",
    "exp_fp = '/home/cesierra/software/bolocalc-space/Experiments/specter_v1/'\n",
    "\n",
    "band_edges =( \n",
    "[10, 40] ,\n",
    "[40, 80] ,\n",
    "[80, 120] ,\n",
    "[120, 200] ,\n",
    "[200, 300] ,\n",
    "[300, 500] ,\n",
    "[500, 700] ,\n",
    "[700, 1000] )"
   ]
  },
  {
   "cell_type": "markdown",
   "id": "70718eca-112e-4314-a7f7-ed6bec9d5a5f",
   "metadata": {},
   "source": [
    "### Step 3: Initialize GenBolos and run calc_bolos()"
   ]
  },
  {
   "cell_type": "code",
   "execution_count": 3,
   "id": "6ab7dffe-cafe-4c67-8268-b82946997dcf",
   "metadata": {},
   "outputs": [
    {
     "name": "stderr",
     "output_type": "stream",
     "text": [
      "/opt/anaconda3/lib/python3.9/site-packages/numpy/core/_asarray.py:102: VisibleDeprecationWarning: Creating an ndarray from ragged nested sequences (which is a list-or-tuple of lists-or-tuples-or ndarrays with different lengths or shapes) is deprecated. If you meant to do this, you must specify 'dtype=object' when creating the ndarray.\n",
      "  return array(a, dtype, copy=False, order=order)\n"
     ]
    }
   ],
   "source": [
    "bolos = GenBolos(bc_fp, exp_fp, band_edges)"
   ]
  },
  {
   "cell_type": "code",
   "execution_count": null,
   "id": "efb4b47d-9059-41e4-b7d2-21b0b7aa9c21",
   "metadata": {},
   "outputs": [],
   "source": [
    "bolos."
   ]
  },
  {
   "cell_type": "code",
   "execution_count": 4,
   "id": "4a4988fa-9319-4af4-a45f-b89f0f53dcd6",
   "metadata": {},
   "outputs": [
    {
     "name": "stdout",
     "output_type": "stream",
     "text": [
      "Simulting 1 experiment realizations each with 1 detector realizations and 1 sky realizations. Total sims = 1\n",
      "\n",
      "[                                                                                                    ] 0.0%\n",
      "[====================================================================================================] 100.0%\n",
      "\n"
     ]
    }
   ],
   "source": [
    "# calc_bolos() runs \"calcBolos.py\" and returns a dictionary of NETs and optical powers for each given band\n",
    "sensitivity_dict = bolos.calc_bolos()"
   ]
  },
  {
   "cell_type": "code",
   "execution_count": null,
   "id": "386328fe-8802-46d4-b14f-ab0b456d9639",
   "metadata": {},
   "outputs": [],
   "source": []
  },
  {
   "cell_type": "code",
   "execution_count": 7,
   "id": "a04b63fb-0686-4cba-9e6c-e0f366550b97",
   "metadata": {},
   "outputs": [],
   "source": [
    "import pandas as pd"
   ]
  },
  {
   "cell_type": "code",
   "execution_count": 8,
   "id": "f0112658-45f2-4458-be1c-52ce38724868",
   "metadata": {},
   "outputs": [
    {
     "data": {
      "text/html": [
       "<div>\n",
       "<style scoped>\n",
       "    .dataframe tbody tr th:only-of-type {\n",
       "        vertical-align: middle;\n",
       "    }\n",
       "\n",
       "    .dataframe tbody tr th {\n",
       "        vertical-align: top;\n",
       "    }\n",
       "\n",
       "    .dataframe thead th {\n",
       "        text-align: right;\n",
       "    }\n",
       "</style>\n",
       "<table border=\"1\" class=\"dataframe\">\n",
       "  <thead>\n",
       "    <tr style=\"text-align: right;\">\n",
       "      <th></th>\n",
       "      <th>Center Frequency [GHz]</th>\n",
       "      <th>NET_CMB [uK-rtSec]</th>\n",
       "      <th>NET_RJ [uK-rtSec]</th>\n",
       "      <th>Optical Power [pW]</th>\n",
       "    </tr>\n",
       "  </thead>\n",
       "  <tbody>\n",
       "    <tr>\n",
       "      <th>1</th>\n",
       "      <td>25.0</td>\n",
       "      <td>32.3218</td>\n",
       "      <td>4.6660</td>\n",
       "      <td>0.5092</td>\n",
       "    </tr>\n",
       "    <tr>\n",
       "      <th>2</th>\n",
       "      <td>60.0</td>\n",
       "      <td>29.6465</td>\n",
       "      <td>4.2797</td>\n",
       "      <td>0.4234</td>\n",
       "    </tr>\n",
       "    <tr>\n",
       "      <th>3</th>\n",
       "      <td>100.0</td>\n",
       "      <td>32.4715</td>\n",
       "      <td>4.6876</td>\n",
       "      <td>0.2404</td>\n",
       "    </tr>\n",
       "    <tr>\n",
       "      <th>4</th>\n",
       "      <td>160.0</td>\n",
       "      <td>25.6667</td>\n",
       "      <td>3.7052</td>\n",
       "      <td>0.2486</td>\n",
       "    </tr>\n",
       "    <tr>\n",
       "      <th>5</th>\n",
       "      <td>250.0</td>\n",
       "      <td>33.3060</td>\n",
       "      <td>4.8080</td>\n",
       "      <td>0.0947</td>\n",
       "    </tr>\n",
       "    <tr>\n",
       "      <th>6</th>\n",
       "      <td>400.0</td>\n",
       "      <td>51.4856</td>\n",
       "      <td>7.4324</td>\n",
       "      <td>0.0308</td>\n",
       "    </tr>\n",
       "    <tr>\n",
       "      <th>7</th>\n",
       "      <td>600.0</td>\n",
       "      <td>259.9106</td>\n",
       "      <td>37.5205</td>\n",
       "      <td>0.0024</td>\n",
       "    </tr>\n",
       "    <tr>\n",
       "      <th>8</th>\n",
       "      <td>850.0</td>\n",
       "      <td>3569.9779</td>\n",
       "      <td>515.3593</td>\n",
       "      <td>0.0010</td>\n",
       "    </tr>\n",
       "  </tbody>\n",
       "</table>\n",
       "</div>"
      ],
      "text/plain": [
       "   Center Frequency [GHz]  NET_CMB [uK-rtSec]  NET_RJ [uK-rtSec]  \\\n",
       "1                    25.0             32.3218             4.6660   \n",
       "2                    60.0             29.6465             4.2797   \n",
       "3                   100.0             32.4715             4.6876   \n",
       "4                   160.0             25.6667             3.7052   \n",
       "5                   250.0             33.3060             4.8080   \n",
       "6                   400.0             51.4856             7.4324   \n",
       "7                   600.0            259.9106            37.5205   \n",
       "8                   850.0           3569.9779           515.3593   \n",
       "\n",
       "   Optical Power [pW]  \n",
       "1              0.5092  \n",
       "2              0.4234  \n",
       "3              0.2404  \n",
       "4              0.2486  \n",
       "5              0.0947  \n",
       "6              0.0308  \n",
       "7              0.0024  \n",
       "8              0.0010  "
      ]
     },
     "execution_count": 8,
     "metadata": {},
     "output_type": "execute_result"
    }
   ],
   "source": [
    "df = pd.DataFrame(sensitivity_dict).T\n",
    "df"
   ]
  },
  {
   "cell_type": "code",
   "execution_count": 7,
   "id": "f4b1bed2-c2b9-4dcd-9a5b-2656e43130c6",
   "metadata": {},
   "outputs": [],
   "source": [
    "# write to text file\n",
    "#df.to_csv('sensitivity.txt', sep='\\t' ,encoding='utf-8')"
   ]
  },
  {
   "cell_type": "markdown",
   "id": "d3435ff0-9205-4bfa-ae22-4f78023469a9",
   "metadata": {},
   "source": [
    "#### In addition to running calc_bolos(), the \"bolos\" object has other useful info such as band centers, pixel sizes, etc..."
   ]
  },
  {
   "cell_type": "code",
   "execution_count": 6,
   "id": "8afa307b-a0b4-4622-b465-9cd807e782b4",
   "metadata": {},
   "outputs": [
    {
     "name": "stdout",
     "output_type": "stream",
     "text": [
      "Detector at 25.0 GHz has a pixel diameter of 80.0 mm\n",
      "Detector at 60.0 GHz has a pixel diameter of 20.0 mm\n",
      "Detector at 100.0 GHz has a pixel diameter of 10.0 mm\n",
      "Detector at 160.0 GHz has a pixel diameter of 6.7 mm\n",
      "Detector at 250.0 GHz has a pixel diameter of 4.0 mm\n",
      "Detector at 400.0 GHz has a pixel diameter of 2.7 mm\n",
      "Detector at 600.0 GHz has a pixel diameter of 1.6 mm\n",
      "Detector at 850.0 GHz has a pixel diameter of 1.1 mm\n"
     ]
    }
   ],
   "source": [
    "for j,nu_0 in enumerate(bolos.band_centers):\n",
    "    print(f'Detector at {nu_0:0.1f} GHz has a pixel diameter of {bolos.pixel_sizes[j]:0.1f} mm')"
   ]
  },
  {
   "cell_type": "code",
   "execution_count": 9,
   "id": "9a6a5bf8-3720-4060-9c3d-23b9ee994dcd",
   "metadata": {},
   "outputs": [],
   "source": [
    "import matplotlib.pyplot as plt\n",
    "import seaborn as sns\n",
    "sns.set(style='ticks', font='serif', font_scale=1.5)\n",
    "figsize = (10,8)"
   ]
  },
  {
   "cell_type": "code",
   "execution_count": 11,
   "id": "7bac2428-c44c-4b88-aa85-910bbc9b815c",
   "metadata": {},
   "outputs": [
    {
     "data": {
      "text/plain": [
       "Text(0.5, 0, 'GHz')"
      ]
     },
     "execution_count": 11,
     "metadata": {},
     "output_type": "execute_result"
    },
    {
     "data": {
      "image/png": "[encoded data removed]",
      "text/plain": [
       "<Figure size 720x576 with 1 Axes>"
      ]
     },
     "metadata": {},
     "output_type": "display_data"
    }
   ],
   "source": [
    "plt.figure(figsize=figsize)\n",
    "for band in bolos.passbands:\n",
    "    plt.semilogx(bolos.freqs, band, linewidth=3)\n",
    "    \n",
    "plt.xlabel('GHz')"
   ]
  },
  {
   "cell_type": "code",
   "execution_count": null,
   "id": "f92a4ff2-d64d-4511-ae92-673cb0fa33d8",
   "metadata": {},
   "outputs": [],
   "source": []
  }
 ],
 "metadata": {
  "kernelspec": {
   "display_name": "Python 3 (Anaconda)",
   "language": "python",
   "name": "python3-anaconda"
  },
  "language_info": {
   "codemirror_mode": {
    "name": "ipython",
    "version": 3
   },
   "file_extension": ".py",
   "mimetype": "text/x-python",
   "name": "python",
   "nbconvert_exporter": "python",
   "pygments_lexer": "ipython3",
   "version": "3.9.7"
  }
 },
 "nbformat": 4,
 "nbformat_minor": 5
}
